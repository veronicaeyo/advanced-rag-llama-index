{
 "cells": [
  {
   "cell_type": "code",
   "execution_count": 1,
   "metadata": {},
   "outputs": [
    {
     "name": "stdout",
     "output_type": "stream",
     "text": [
      "✅ In Answer Relevance, input prompt will be set to __record__.main_input or `Select.RecordInput` .\n",
      "✅ In Answer Relevance, input response will be set to __record__.main_output or `Select.RecordOutput` .\n",
      "✅ In Context Relevance, input prompt will be set to __record__.main_input or `Select.RecordInput` .\n",
      "✅ In Context Relevance, input response will be set to __record__.app.query.rets.source_nodes[:].node.text .\n",
      "✅ In Groundedness, input source will be set to __record__.app.query.rets.source_nodes[:].node.text .\n",
      "✅ In Groundedness, input statement will be set to __record__.main_output or `Select.RecordOutput` .\n"
     ]
    }
   ],
   "source": [
    "import warnings\n",
    "warnings.filterwarnings('ignore')\n",
    "\n",
    "from scripts import utils\n",
    "\n",
    "import os\n",
    "import openai\n",
    "openai.api_key = utils.get_openai_api_key()"
   ]
  },
  {
   "cell_type": "code",
   "execution_count": 2,
   "metadata": {},
   "outputs": [],
   "source": [
    "from pprint import pprint"
   ]
  },
  {
   "cell_type": "code",
   "execution_count": 3,
   "metadata": {},
   "outputs": [
    {
     "name": "stdout",
     "output_type": "stream",
     "text": [
      "🦑 Tru initialized with db url sqlite:///rag_triad.sqlite .\n",
      "🛑 Secret keys may be written to the database. See the `database_redact_keys` option of `Tru` to prevent this.\n"
     ]
    }
   ],
   "source": [
    "from trulens_eval import Tru\n",
    "\n",
    "tru = Tru(database_file=\"rag_triad.sqlite\")"
   ]
  },
  {
   "cell_type": "code",
   "execution_count": 4,
   "metadata": {},
   "outputs": [],
   "source": [
    "from llama_index import SimpleDirectoryReader\n",
    "\n",
    "documents = SimpleDirectoryReader(\n",
    "    input_files=[\"pdfs/eBook-How-to-Build-a-Career-in-AI.pdf\"]\n",
    ").load_data()"
   ]
  },
  {
   "cell_type": "code",
   "execution_count": 5,
   "metadata": {},
   "outputs": [],
   "source": [
    "from llama_index import Document\n",
    "\n",
    "document = Document(text=\"\\n\\n\".\\\n",
    "                    join([doc.text for doc in documents]))"
   ]
  },
  {
   "cell_type": "code",
   "execution_count": 6,
   "metadata": {},
   "outputs": [],
   "source": [
    "from scripts.utils import build_sentence_window_index\n",
    "\n",
    "from llama_index.llms import OpenAI\n",
    "\n",
    "llm = OpenAI(model=\"gpt-3.5-turbo\", temperature=0.1)\n",
    "\n",
    "sentence_index = build_sentence_window_index(\n",
    "    document,\n",
    "    llm,\n",
    "    embed_model=\"local:BAAI/bge-small-en-v1.5\",\n",
    "    save_dir=\"sentence_index\"\n",
    ")"
   ]
  },
  {
   "cell_type": "code",
   "execution_count": 7,
   "metadata": {},
   "outputs": [],
   "source": [
    "from scripts.utils import get_sentence_window_query_engine\n",
    "\n",
    "sentence_window_engine = \\\n",
    "get_sentence_window_query_engine(sentence_index)"
   ]
  },
  {
   "cell_type": "code",
   "execution_count": 8,
   "metadata": {},
   "outputs": [
    {
     "name": "stdout",
     "output_type": "stream",
     "text": [
      "('To create your AI portfolio, you should focus on building a collection of '\n",
      " 'projects that demonstrate your skill progression. This can be achieved by '\n",
      " 'starting with simpler projects and gradually increasing the complexity as '\n",
      " 'you gain more experience. Additionally, it is important to ensure that your '\n",
      " 'portfolio showcases a variety of AI techniques and applications to highlight '\n",
      " 'your versatility and breadth of knowledge. By following this approach, you '\n",
      " 'can effectively showcase your skills and attract potential employers in the '\n",
      " 'field of AI.')\n"
     ]
    }
   ],
   "source": [
    "output = sentence_window_engine.query(\n",
    "    \"How do you create your AI portfolio?\")\n",
    "pprint(output.response)"
   ]
  },
  {
   "cell_type": "markdown",
   "metadata": {},
   "source": [
    "### Feedack Functions"
   ]
  },
  {
   "cell_type": "code",
   "execution_count": 9,
   "metadata": {},
   "outputs": [],
   "source": [
    "import nest_asyncio\n",
    "\n",
    "nest_asyncio.apply()"
   ]
  },
  {
   "cell_type": "code",
   "execution_count": 10,
   "metadata": {},
   "outputs": [],
   "source": [
    "from trulens_eval import OpenAI as fOpenAI\n",
    "\n",
    "provider = fOpenAI()"
   ]
  },
  {
   "cell_type": "markdown",
   "metadata": {},
   "source": [
    "### Answer Relevance"
   ]
  },
  {
   "cell_type": "code",
   "execution_count": 12,
   "metadata": {},
   "outputs": [
    {
     "name": "stdout",
     "output_type": "stream",
     "text": [
      "✅ In Answer Relevance, input prompt will be set to __record__.main_input or `Select.RecordInput` .\n",
      "✅ In Answer Relevance, input response will be set to __record__.main_output or `Select.RecordOutput` .\n"
     ]
    }
   ],
   "source": [
    "from trulens_eval import Feedback\n",
    "\n",
    "# cot  - chain of thought\n",
    "f_qa_relevance = Feedback(\n",
    "    provider.relevance_with_cot_reasons,\n",
    "    name=\"Answer Relevance\"\n",
    ").on_input().on_output()\n",
    "\n",
    "# .on_input_output()"
   ]
  },
  {
   "cell_type": "markdown",
   "metadata": {},
   "source": [
    "### Context Relevance"
   ]
  },
  {
   "cell_type": "code",
   "execution_count": 18,
   "metadata": {},
   "outputs": [],
   "source": [
    "from trulens_eval import TruLlama\n",
    "\n",
    "context_selection = TruLlama.select_source_nodes().node.text"
   ]
  },
  {
   "cell_type": "code",
   "execution_count": null,
   "metadata": {},
   "outputs": [],
   "source": [
    "# import numpy as np\n",
    "\n",
    "\n",
    "# f_qs_relevance = (\n",
    "#     Feedback(provider.qs_relevance,\n",
    "#              name=\"Context Relevance\")\n",
    "#     .on_input()\n",
    "#     .on(context_selection)\n",
    "#     .aggregate(np.mean)\n",
    "# )"
   ]
  },
  {
   "cell_type": "code",
   "execution_count": 19,
   "metadata": {},
   "outputs": [
    {
     "name": "stdout",
     "output_type": "stream",
     "text": [
      "✅ In Context Relevance, input question will be set to __record__.main_input or `Select.RecordInput` .\n",
      "✅ In Context Relevance, input statement will be set to __record__.app.query.rets.source_nodes[:].node.text .\n"
     ]
    }
   ],
   "source": [
    "import numpy as np\n",
    "\n",
    "# qs - question statement\n",
    "\n",
    "f_qs_relevance = (\n",
    "    Feedback(provider.qs_relevance_with_cot_reasons,\n",
    "             name=\"Context Relevance\")\n",
    "    .on_input()\n",
    "    .on(context_selection)\n",
    "    .aggregate(np.mean)\n",
    ")"
   ]
  },
  {
   "cell_type": "markdown",
   "metadata": {},
   "source": [
    "### Grounddness"
   ]
  },
  {
   "cell_type": "code",
   "execution_count": 20,
   "metadata": {},
   "outputs": [],
   "source": [
    "from trulens_eval.feedback import Groundedness\n",
    "\n",
    "grounded = Groundedness(groundedness_provider=provider)"
   ]
  },
  {
   "cell_type": "code",
   "execution_count": 21,
   "metadata": {},
   "outputs": [
    {
     "name": "stdout",
     "output_type": "stream",
     "text": [
      "✅ In Groundedness, input source will be set to __record__.app.query.rets.source_nodes[:].node.text .\n",
      "✅ In Groundedness, input statement will be set to __record__.main_output or `Select.RecordOutput` .\n"
     ]
    }
   ],
   "source": [
    "f_groundedness = (\n",
    "    Feedback(grounded.groundedness_measure_with_cot_reasons,\n",
    "             name=\"Groundedness\"\n",
    "            )\n",
    "    .on(context_selection)\n",
    "    .on_output()\n",
    "    .aggregate(grounded.grounded_statements_aggregator)\n",
    ")"
   ]
  },
  {
   "cell_type": "markdown",
   "metadata": {},
   "source": [
    "### Evaluation of the RAG application"
   ]
  },
  {
   "cell_type": "code",
   "execution_count": 22,
   "metadata": {},
   "outputs": [],
   "source": [
    "from trulens_eval import TruLlama\n",
    "from trulens_eval import FeedbackMode\n",
    "\n",
    "tru_recorder = TruLlama(\n",
    "    sentence_window_engine,\n",
    "    app_id=\"App_1\",\n",
    "    feedbacks=[\n",
    "        f_qa_relevance,\n",
    "        f_qs_relevance,\n",
    "        f_groundedness\n",
    "    ]\n",
    ")"
   ]
  },
  {
   "cell_type": "code",
   "execution_count": 29,
   "metadata": {},
   "outputs": [],
   "source": [
    "eval_questions = []\n",
    "with open('text/eval_questions.txt', 'r') as file:\n",
    "    for line in file:\n",
    "        # Remove newline character and convert to integer\n",
    "        item = line.strip()\n",
    "        eval_questions.append(item)"
   ]
  },
  {
   "cell_type": "code",
   "execution_count": 30,
   "metadata": {},
   "outputs": [
    {
     "data": {
      "text/plain": [
       "['What are the keys to building a career in AI?',\n",
       " 'How can teamwork contribute to success in AI?',\n",
       " 'What is the importance of networking in AI?',\n",
       " 'What are some good habits to develop for a successful career?',\n",
       " 'How can altruism be beneficial in building a career?',\n",
       " 'What is imposter syndrome and how does it relate to AI?',\n",
       " 'Who are some accomplished individuals who have experienced imposter syndrome?',\n",
       " 'What is the first step to becoming good at AI?',\n",
       " 'What are some common challenges in AI?',\n",
       " 'Is it normal to find parts of AI challenging?']"
      ]
     },
     "execution_count": 30,
     "metadata": {},
     "output_type": "execute_result"
    }
   ],
   "source": [
    "eval_questions"
   ]
  },
  {
   "cell_type": "code",
   "execution_count": 31,
   "metadata": {},
   "outputs": [],
   "source": [
    "eval_questions.append(\"How can I be successful in AI?\")"
   ]
  },
  {
   "cell_type": "code",
   "execution_count": 33,
   "metadata": {},
   "outputs": [],
   "source": [
    "eval_questions.extend([\"How can pineapple be grown in nigeria?\"])"
   ]
  },
  {
   "cell_type": "code",
   "execution_count": 34,
   "metadata": {},
   "outputs": [
    {
     "name": "stdout",
     "output_type": "stream",
     "text": [
      "['What are the keys to building a career in AI?',\n",
      " 'How can teamwork contribute to success in AI?',\n",
      " 'What is the importance of networking in AI?',\n",
      " 'What are some good habits to develop for a successful career?',\n",
      " 'How can altruism be beneficial in building a career?',\n",
      " 'What is imposter syndrome and how does it relate to AI?',\n",
      " 'Who are some accomplished individuals who have experienced imposter '\n",
      " 'syndrome?',\n",
      " 'What is the first step to becoming good at AI?',\n",
      " 'What are some common challenges in AI?',\n",
      " 'Is it normal to find parts of AI challenging?',\n",
      " 'How can I be successful in AI?',\n",
      " 'How can pineapple be grown in nigeria?',\n",
      " 'How can pineapple be grown in nigeria?']\n"
     ]
    }
   ],
   "source": [
    "pprint(eval_questions)"
   ]
  },
  {
   "cell_type": "code",
   "execution_count": 35,
   "metadata": {},
   "outputs": [],
   "source": [
    "for question in eval_questions:\n",
    "    with tru_recorder as recording:\n",
    "        sentence_window_engine.query(question)"
   ]
  },
  {
   "cell_type": "code",
   "execution_count": 36,
   "metadata": {},
   "outputs": [
    {
     "data": {
      "text/html": [
       "<div>\n",
       "<style scoped>\n",
       "    .dataframe tbody tr th:only-of-type {\n",
       "        vertical-align: middle;\n",
       "    }\n",
       "\n",
       "    .dataframe tbody tr th {\n",
       "        vertical-align: top;\n",
       "    }\n",
       "\n",
       "    .dataframe thead th {\n",
       "        text-align: right;\n",
       "    }\n",
       "</style>\n",
       "<table border=\"1\" class=\"dataframe\">\n",
       "  <thead>\n",
       "    <tr style=\"text-align: right;\">\n",
       "      <th></th>\n",
       "      <th>app_id</th>\n",
       "      <th>app_json</th>\n",
       "      <th>type</th>\n",
       "      <th>record_id</th>\n",
       "      <th>input</th>\n",
       "      <th>output</th>\n",
       "      <th>tags</th>\n",
       "      <th>record_json</th>\n",
       "      <th>cost_json</th>\n",
       "      <th>perf_json</th>\n",
       "      <th>ts</th>\n",
       "      <th>Answer Relevance</th>\n",
       "      <th>Groundedness</th>\n",
       "      <th>Context Relevance</th>\n",
       "      <th>Answer Relevance_calls</th>\n",
       "      <th>Groundedness_calls</th>\n",
       "      <th>Context Relevance_calls</th>\n",
       "      <th>latency</th>\n",
       "      <th>total_tokens</th>\n",
       "      <th>total_cost</th>\n",
       "    </tr>\n",
       "  </thead>\n",
       "  <tbody>\n",
       "    <tr>\n",
       "      <th>0</th>\n",
       "      <td>App_1</td>\n",
       "      <td>{\"tru_class_info\": {\"name\": \"TruLlama\", \"modul...</td>\n",
       "      <td>RetrieverQueryEngine(llama_index.query_engine....</td>\n",
       "      <td>record_hash_7c95279874030eca61d8063557cede4b</td>\n",
       "      <td>\"What are the keys to building a career in AI?\"</td>\n",
       "      <td>\"The keys to building a career in AI are learn...</td>\n",
       "      <td>-</td>\n",
       "      <td>{\"record_id\": \"record_hash_7c95279874030eca61d...</td>\n",
       "      <td>{\"n_requests\": 1, \"n_successful_requests\": 1, ...</td>\n",
       "      <td>{\"start_time\": \"2024-01-15T15:36:08.736752\", \"...</td>\n",
       "      <td>2024-01-15T15:36:19.879437</td>\n",
       "      <td>0.8</td>\n",
       "      <td>1.000</td>\n",
       "      <td>0.45</td>\n",
       "      <td>[{'args': {'prompt': 'What are the keys to bui...</td>\n",
       "      <td>[{'args': {'source': 'Chapter 7: A Simple Fram...</td>\n",
       "      <td>[{'args': {'question': 'What are the keys to b...</td>\n",
       "      <td>11</td>\n",
       "      <td>514</td>\n",
       "      <td>0.000788</td>\n",
       "    </tr>\n",
       "    <tr>\n",
       "      <th>1</th>\n",
       "      <td>App_1</td>\n",
       "      <td>{\"tru_class_info\": {\"name\": \"TruLlama\", \"modul...</td>\n",
       "      <td>RetrieverQueryEngine(llama_index.query_engine....</td>\n",
       "      <td>record_hash_b142ecf1ad1dd3e0794c696605302bc3</td>\n",
       "      <td>\"How can teamwork contribute to success in AI?\"</td>\n",
       "      <td>\"Teamwork can contribute to success in AI by a...</td>\n",
       "      <td>-</td>\n",
       "      <td>{\"record_id\": \"record_hash_b142ecf1ad1dd3e0794...</td>\n",
       "      <td>{\"n_requests\": 1, \"n_successful_requests\": 1, ...</td>\n",
       "      <td>{\"start_time\": \"2024-01-15T15:36:20.682185\", \"...</td>\n",
       "      <td>2024-01-15T15:36:36.192520</td>\n",
       "      <td>0.9</td>\n",
       "      <td>0.950</td>\n",
       "      <td>0.65</td>\n",
       "      <td>[{'args': {'prompt': 'How can teamwork contrib...</td>\n",
       "      <td>[{'args': {'source': 'To get \n",
       "a project starte...</td>\n",
       "      <td>[{'args': {'question': 'How can teamwork contr...</td>\n",
       "      <td>15</td>\n",
       "      <td>662</td>\n",
       "      <td>0.001045</td>\n",
       "    </tr>\n",
       "    <tr>\n",
       "      <th>2</th>\n",
       "      <td>App_1</td>\n",
       "      <td>{\"tru_class_info\": {\"name\": \"TruLlama\", \"modul...</td>\n",
       "      <td>RetrieverQueryEngine(llama_index.query_engine....</td>\n",
       "      <td>record_hash_bbb89b6a6897c74556cacbe67f648605</td>\n",
       "      <td>\"What is the importance of networking in AI?\"</td>\n",
       "      <td>\"Networking is important in AI because it allo...</td>\n",
       "      <td>-</td>\n",
       "      <td>{\"record_id\": \"record_hash_bbb89b6a6897c74556c...</td>\n",
       "      <td>{\"n_requests\": 1, \"n_successful_requests\": 1, ...</td>\n",
       "      <td>{\"start_time\": \"2024-01-15T15:36:36.914921\", \"...</td>\n",
       "      <td>2024-01-15T15:36:58.681886</td>\n",
       "      <td>0.9</td>\n",
       "      <td>0.375</td>\n",
       "      <td>0.20</td>\n",
       "      <td>[{'args': {'prompt': 'What is the importance o...</td>\n",
       "      <td>[{'args': {'source': 'What is the hiring proce...</td>\n",
       "      <td>[{'args': {'question': 'What is the importance...</td>\n",
       "      <td>21</td>\n",
       "      <td>545</td>\n",
       "      <td>0.000873</td>\n",
       "    </tr>\n",
       "    <tr>\n",
       "      <th>3</th>\n",
       "      <td>App_1</td>\n",
       "      <td>{\"tru_class_info\": {\"name\": \"TruLlama\", \"modul...</td>\n",
       "      <td>RetrieverQueryEngine(llama_index.query_engine....</td>\n",
       "      <td>record_hash_cb23d28347f57af8982b62f43b4f1a98</td>\n",
       "      <td>\"What are some good habits to develop for a su...</td>\n",
       "      <td>\"Developing good habits in eating, exercise, s...</td>\n",
       "      <td>-</td>\n",
       "      <td>{\"record_id\": \"record_hash_cb23d28347f57af8982...</td>\n",
       "      <td>{\"n_requests\": 1, \"n_successful_requests\": 1, ...</td>\n",
       "      <td>{\"start_time\": \"2024-01-15T15:36:59.613699\", \"...</td>\n",
       "      <td>2024-01-15T15:37:12.740227</td>\n",
       "      <td>0.9</td>\n",
       "      <td>0.500</td>\n",
       "      <td>0.50</td>\n",
       "      <td>[{'args': {'prompt': 'What are some good habit...</td>\n",
       "      <td>[{'args': {'source': '(For example, many \n",
       "arti...</td>\n",
       "      <td>[{'args': {'question': 'What are some good hab...</td>\n",
       "      <td>13</td>\n",
       "      <td>447</td>\n",
       "      <td>0.000696</td>\n",
       "    </tr>\n",
       "    <tr>\n",
       "      <th>4</th>\n",
       "      <td>App_1</td>\n",
       "      <td>{\"tru_class_info\": {\"name\": \"TruLlama\", \"modul...</td>\n",
       "      <td>RetrieverQueryEngine(llama_index.query_engine....</td>\n",
       "      <td>record_hash_e5efcb4992b0407eb4b238eb7599f59e</td>\n",
       "      <td>\"How can altruism be beneficial in building a ...</td>\n",
       "      <td>\"Altruism can be beneficial in building a care...</td>\n",
       "      <td>-</td>\n",
       "      <td>{\"record_id\": \"record_hash_e5efcb4992b0407eb4b...</td>\n",
       "      <td>{\"n_requests\": 1, \"n_successful_requests\": 1, ...</td>\n",
       "      <td>{\"start_time\": \"2024-01-15T15:37:13.545612\", \"...</td>\n",
       "      <td>2024-01-15T15:37:26.860747</td>\n",
       "      <td>0.9</td>\n",
       "      <td>0.500</td>\n",
       "      <td>0.45</td>\n",
       "      <td>[{'args': {'prompt': 'How can altruism be bene...</td>\n",
       "      <td>[{'args': {'source': 'Many successful people d...</td>\n",
       "      <td>[{'args': {'question': 'How can altruism be be...</td>\n",
       "      <td>13</td>\n",
       "      <td>547</td>\n",
       "      <td>0.000864</td>\n",
       "    </tr>\n",
       "  </tbody>\n",
       "</table>\n",
       "</div>"
      ],
      "text/plain": [
       "  app_id                                           app_json  \\\n",
       "0  App_1  {\"tru_class_info\": {\"name\": \"TruLlama\", \"modul...   \n",
       "1  App_1  {\"tru_class_info\": {\"name\": \"TruLlama\", \"modul...   \n",
       "2  App_1  {\"tru_class_info\": {\"name\": \"TruLlama\", \"modul...   \n",
       "3  App_1  {\"tru_class_info\": {\"name\": \"TruLlama\", \"modul...   \n",
       "4  App_1  {\"tru_class_info\": {\"name\": \"TruLlama\", \"modul...   \n",
       "\n",
       "                                                type  \\\n",
       "0  RetrieverQueryEngine(llama_index.query_engine....   \n",
       "1  RetrieverQueryEngine(llama_index.query_engine....   \n",
       "2  RetrieverQueryEngine(llama_index.query_engine....   \n",
       "3  RetrieverQueryEngine(llama_index.query_engine....   \n",
       "4  RetrieverQueryEngine(llama_index.query_engine....   \n",
       "\n",
       "                                      record_id  \\\n",
       "0  record_hash_7c95279874030eca61d8063557cede4b   \n",
       "1  record_hash_b142ecf1ad1dd3e0794c696605302bc3   \n",
       "2  record_hash_bbb89b6a6897c74556cacbe67f648605   \n",
       "3  record_hash_cb23d28347f57af8982b62f43b4f1a98   \n",
       "4  record_hash_e5efcb4992b0407eb4b238eb7599f59e   \n",
       "\n",
       "                                               input  \\\n",
       "0    \"What are the keys to building a career in AI?\"   \n",
       "1    \"How can teamwork contribute to success in AI?\"   \n",
       "2      \"What is the importance of networking in AI?\"   \n",
       "3  \"What are some good habits to develop for a su...   \n",
       "4  \"How can altruism be beneficial in building a ...   \n",
       "\n",
       "                                              output tags  \\\n",
       "0  \"The keys to building a career in AI are learn...    -   \n",
       "1  \"Teamwork can contribute to success in AI by a...    -   \n",
       "2  \"Networking is important in AI because it allo...    -   \n",
       "3  \"Developing good habits in eating, exercise, s...    -   \n",
       "4  \"Altruism can be beneficial in building a care...    -   \n",
       "\n",
       "                                         record_json  \\\n",
       "0  {\"record_id\": \"record_hash_7c95279874030eca61d...   \n",
       "1  {\"record_id\": \"record_hash_b142ecf1ad1dd3e0794...   \n",
       "2  {\"record_id\": \"record_hash_bbb89b6a6897c74556c...   \n",
       "3  {\"record_id\": \"record_hash_cb23d28347f57af8982...   \n",
       "4  {\"record_id\": \"record_hash_e5efcb4992b0407eb4b...   \n",
       "\n",
       "                                           cost_json  \\\n",
       "0  {\"n_requests\": 1, \"n_successful_requests\": 1, ...   \n",
       "1  {\"n_requests\": 1, \"n_successful_requests\": 1, ...   \n",
       "2  {\"n_requests\": 1, \"n_successful_requests\": 1, ...   \n",
       "3  {\"n_requests\": 1, \"n_successful_requests\": 1, ...   \n",
       "4  {\"n_requests\": 1, \"n_successful_requests\": 1, ...   \n",
       "\n",
       "                                           perf_json  \\\n",
       "0  {\"start_time\": \"2024-01-15T15:36:08.736752\", \"...   \n",
       "1  {\"start_time\": \"2024-01-15T15:36:20.682185\", \"...   \n",
       "2  {\"start_time\": \"2024-01-15T15:36:36.914921\", \"...   \n",
       "3  {\"start_time\": \"2024-01-15T15:36:59.613699\", \"...   \n",
       "4  {\"start_time\": \"2024-01-15T15:37:13.545612\", \"...   \n",
       "\n",
       "                           ts  Answer Relevance  Groundedness  \\\n",
       "0  2024-01-15T15:36:19.879437               0.8         1.000   \n",
       "1  2024-01-15T15:36:36.192520               0.9         0.950   \n",
       "2  2024-01-15T15:36:58.681886               0.9         0.375   \n",
       "3  2024-01-15T15:37:12.740227               0.9         0.500   \n",
       "4  2024-01-15T15:37:26.860747               0.9         0.500   \n",
       "\n",
       "   Context Relevance                             Answer Relevance_calls  \\\n",
       "0               0.45  [{'args': {'prompt': 'What are the keys to bui...   \n",
       "1               0.65  [{'args': {'prompt': 'How can teamwork contrib...   \n",
       "2               0.20  [{'args': {'prompt': 'What is the importance o...   \n",
       "3               0.50  [{'args': {'prompt': 'What are some good habit...   \n",
       "4               0.45  [{'args': {'prompt': 'How can altruism be bene...   \n",
       "\n",
       "                                  Groundedness_calls  \\\n",
       "0  [{'args': {'source': 'Chapter 7: A Simple Fram...   \n",
       "1  [{'args': {'source': 'To get \n",
       "a project starte...   \n",
       "2  [{'args': {'source': 'What is the hiring proce...   \n",
       "3  [{'args': {'source': '(For example, many \n",
       "arti...   \n",
       "4  [{'args': {'source': 'Many successful people d...   \n",
       "\n",
       "                             Context Relevance_calls  latency  total_tokens  \\\n",
       "0  [{'args': {'question': 'What are the keys to b...       11           514   \n",
       "1  [{'args': {'question': 'How can teamwork contr...       15           662   \n",
       "2  [{'args': {'question': 'What is the importance...       21           545   \n",
       "3  [{'args': {'question': 'What are some good hab...       13           447   \n",
       "4  [{'args': {'question': 'How can altruism be be...       13           547   \n",
       "\n",
       "   total_cost  \n",
       "0    0.000788  \n",
       "1    0.001045  \n",
       "2    0.000873  \n",
       "3    0.000696  \n",
       "4    0.000864  "
      ]
     },
     "execution_count": 36,
     "metadata": {},
     "output_type": "execute_result"
    }
   ],
   "source": [
    "records, feedback = tru.get_records_and_feedback(app_ids=[])\n",
    "records.head()"
   ]
  },
  {
   "cell_type": "code",
   "execution_count": 37,
   "metadata": {},
   "outputs": [
    {
     "data": {
      "text/plain": [
       "['Groundedness', 'Context Relevance', 'Answer Relevance']"
      ]
     },
     "execution_count": 37,
     "metadata": {},
     "output_type": "execute_result"
    }
   ],
   "source": [
    "feedback"
   ]
  },
  {
   "cell_type": "code",
   "execution_count": 38,
   "metadata": {},
   "outputs": [
    {
     "data": {
      "text/html": [
       "<div>\n",
       "<style scoped>\n",
       "    .dataframe tbody tr th:only-of-type {\n",
       "        vertical-align: middle;\n",
       "    }\n",
       "\n",
       "    .dataframe tbody tr th {\n",
       "        vertical-align: top;\n",
       "    }\n",
       "\n",
       "    .dataframe thead th {\n",
       "        text-align: right;\n",
       "    }\n",
       "</style>\n",
       "<table border=\"1\" class=\"dataframe\">\n",
       "  <thead>\n",
       "    <tr style=\"text-align: right;\">\n",
       "      <th></th>\n",
       "      <th>input</th>\n",
       "      <th>output</th>\n",
       "      <th>Groundedness</th>\n",
       "      <th>Context Relevance</th>\n",
       "      <th>Answer Relevance</th>\n",
       "    </tr>\n",
       "  </thead>\n",
       "  <tbody>\n",
       "    <tr>\n",
       "      <th>0</th>\n",
       "      <td>\"What are the keys to building a career in AI?\"</td>\n",
       "      <td>\"The keys to building a career in AI are learning foundational technical skills, working on projects, and finding a job, all of which is supported by being part of a community.\"</td>\n",
       "      <td>1.000000</td>\n",
       "      <td>0.45</td>\n",
       "      <td>0.8</td>\n",
       "    </tr>\n",
       "    <tr>\n",
       "      <th>1</th>\n",
       "      <td>\"How can teamwork contribute to success in AI?\"</td>\n",
       "      <td>\"Teamwork can contribute to success in AI by allowing individuals to leverage the expertise and insights of their colleagues. When working on larger AI projects that require collaboration, the ability to lead and work effectively with a team becomes crucial. By working together, team members can share their deep technical insights, make informed decisions about technical architecture or data collection, and ultimately improve the project. Additionally, being surrounded by colleagues who are dedicated, hardworking, and continuously learning can inspire individuals to do the same, leading to greater success in AI endeavors.\"</td>\n",
       "      <td>0.950000</td>\n",
       "      <td>0.65</td>\n",
       "      <td>0.9</td>\n",
       "    </tr>\n",
       "    <tr>\n",
       "      <th>2</th>\n",
       "      <td>\"What is the importance of networking in AI?\"</td>\n",
       "      <td>\"Networking is important in AI because it allows individuals to connect with others who have experience and knowledge in the field. By reaching out to people in their network, such as friends or alumni, individuals can receive guidance and support as they navigate their career in AI. Additionally, attending meetups and engaging in informational interviews can help individuals expand their network and learn from professionals who hold positions aligned with their interests. This networking can provide valuable insights, help individuals stay updated on the evolving field of AI, and potentially open up opportunities for collaboration or job prospects in the future.\"</td>\n",
       "      <td>0.375000</td>\n",
       "      <td>0.20</td>\n",
       "      <td>0.9</td>\n",
       "    </tr>\n",
       "    <tr>\n",
       "      <th>3</th>\n",
       "      <td>\"What are some good habits to develop for a successful career?\"</td>\n",
       "      <td>\"Developing good habits in eating, exercise, sleep, personal relationships, work, learning, and self-care can be beneficial for a successful career. These habits can help individuals move forward while staying healthy and contribute to their overall success in their professional lives.\"</td>\n",
       "      <td>0.500000</td>\n",
       "      <td>0.50</td>\n",
       "      <td>0.9</td>\n",
       "    </tr>\n",
       "    <tr>\n",
       "      <th>4</th>\n",
       "      <td>\"How can altruism be beneficial in building a career?\"</td>\n",
       "      <td>\"Altruism can be beneficial in building a career by helping others even as one focuses on their own career growth. By aiming to lift others during every step of their own journey, individuals can achieve better outcomes for themselves. This can create a positive reputation and network, which can lead to new opportunities and collaborations. Additionally, helping others can provide a sense of fulfillment and purpose, which can contribute to overall career satisfaction and well-being.\"</td>\n",
       "      <td>0.500000</td>\n",
       "      <td>0.45</td>\n",
       "      <td>0.9</td>\n",
       "    </tr>\n",
       "    <tr>\n",
       "      <th>5</th>\n",
       "      <td>\"What is imposter syndrome and how does it relate to AI?\"</td>\n",
       "      <td>\"Imposter syndrome is a psychological phenomenon where individuals doubt their own abilities and fear being exposed as a fraud, despite evidence of their competence. In the context of AI, newcomers to the field sometimes experience imposter syndrome, questioning whether they truly belong in the AI community and if they are capable of succeeding in the field. It is important to address imposter syndrome in order to encourage individuals to continue growing in AI and not let self-doubt hinder their progress.\"</td>\n",
       "      <td>1.000000</td>\n",
       "      <td>0.85</td>\n",
       "      <td>1.0</td>\n",
       "    </tr>\n",
       "    <tr>\n",
       "      <th>6</th>\n",
       "      <td>\"Who are some accomplished individuals who have experienced imposter syndrome?\"</td>\n",
       "      <td>\"Sheryl Sandberg, Michelle Obama, Tom Hanks, and Mike Cannon-Brookes are some accomplished individuals who have experienced imposter syndrome.\"</td>\n",
       "      <td>1.000000</td>\n",
       "      <td>0.65</td>\n",
       "      <td>0.8</td>\n",
       "    </tr>\n",
       "    <tr>\n",
       "      <th>7</th>\n",
       "      <td>\"What is the first step to becoming good at AI?\"</td>\n",
       "      <td>\"The first step to becoming good at AI is to learn foundational technical skills.\"</td>\n",
       "      <td>1.000000</td>\n",
       "      <td>0.55</td>\n",
       "      <td>0.9</td>\n",
       "    </tr>\n",
       "    <tr>\n",
       "      <th>8</th>\n",
       "      <td>\"What are some common challenges in AI?\"</td>\n",
       "      <td>\"Some common challenges in AI include keeping up-to-date with evolving technology, finding suitable projects and estimating timelines and return on investment, managing the highly iterative nature of AI projects, collaborating with stakeholders who lack expertise in AI, and struggling with technical challenges while reading research papers or tuning neural network hyperparameters.\"</td>\n",
       "      <td>1.000000</td>\n",
       "      <td>0.50</td>\n",
       "      <td>0.9</td>\n",
       "    </tr>\n",
       "    <tr>\n",
       "      <th>9</th>\n",
       "      <td>\"Is it normal to find parts of AI challenging?\"</td>\n",
       "      <td>\"Yes, it is normal to find parts of AI challenging. The author mentions that they still find many research papers challenging to read and have made mistakes while working with neural networks. They also assure the reader that everyone who has published a seminal AI paper has struggled with similar technical challenges at some point. Therefore, it is clear that finding parts of AI challenging is a common experience.\"</td>\n",
       "      <td>1.000000</td>\n",
       "      <td>0.85</td>\n",
       "      <td>1.0</td>\n",
       "    </tr>\n",
       "    <tr>\n",
       "      <th>10</th>\n",
       "      <td>\"How can I be successful in AI?\"</td>\n",
       "      <td>\"To be successful in AI, it is important to have a basic understanding of calculus, as it can be helpful in certain tasks. However, it is worth noting that with improved automatic differentiation software, it is now possible to invent and implement new neural network architectures without needing to do any calculus. Additionally, it is crucial to continuously learn and deepen your technical knowledge in AI. This can involve mastering various machine learning techniques and metrics, as well as gaining expertise in specific application areas such as natural language processing or computer vision. Developing skills in technology areas like probabilistic graphical models or building scalable software systems can also be beneficial for a successful AI career.\"</td>\n",
       "      <td>1.000000</td>\n",
       "      <td>0.40</td>\n",
       "      <td>0.9</td>\n",
       "    </tr>\n",
       "    <tr>\n",
       "      <th>11</th>\n",
       "      <td>\"How can pineapple be grown in nigeria?\"</td>\n",
       "      <td>\"To grow pineapples in Nigeria, there are several factors to consider. Pineapples thrive in tropical climates with well-drained soil and require a minimum temperature of 60\\u00b0F (15\\u00b0C) for optimal growth. Here are some steps that can be taken to grow pineapples in Nigeria:\\n\\n1. Select a suitable location: Choose a sunny spot with well-drained soil for planting pineapples. Ensure that the area is free from waterlogging and has good air circulation.\\n\\n2. Prepare the soil: Pineapples prefer slightly acidic soil with a pH level between 4.5 and 6.5. If the soil is not within this range, it may be necessary to amend it with organic matter or fertilizers to adjust the pH.\\n\\n3. Planting: Pineapples can be propagated from the crown of a mature pineapple fruit. Cut off the crown, remove any excess fruit flesh, and allow it to dry for a day or two. Then, plant the crown in the prepared soil, making sure that the base is buried and the leaves are above the ground.\\n\\n4. Watering: Pineapples require regular watering, especially during dry periods. However, it is important not to overwater as excessive moisture can lead to root rot. Aim to keep the soil evenly moist but not waterlogged.\\n\\n5. Fertilization: Pineapples benefit from regular fertilization. Apply a balanced fertilizer with a higher potassium content to promote fruit development. Follow the recommended dosage and frequency as per the fertilizer instructions.\\n\\n6. Weed control: Keep the area around the pineapple plants free from weeds, as they can compete for nutrients and water. Regularly remove any weeds that may emerge.\\n\\n7. Pest and disease management: Monitor the plants for common pests such as mealybugs, aphids, and nematodes. If necessary, use appropriate organic or chemical pest control methods to manage infestations. Additionally, watch out for diseases like pineapple wilt and heart rot, and take preventive measures to minimize their impact.\\n\\n8. Harvesting: Pineapples are typically ready for harvest within 12-18 months after planting, depending on the variety. Look for fully mature fruits with a golden color and a sweet aroma. Gently twist or cut the fruit from the plant, taking care not to damage the crown for future propagation.\\n\\nIt is important to note that the specific pineapple cultivation practices may vary depending on the region within Nigeria and the pineapple variety being grown. Local agricultural extension services or pineapple farming associations can provide more detailed guidance tailored to the specific location.\"</td>\n",
       "      <td>0.909091</td>\n",
       "      <td>0.00</td>\n",
       "      <td>1.0</td>\n",
       "    </tr>\n",
       "    <tr>\n",
       "      <th>12</th>\n",
       "      <td>\"How can pineapple be grown in nigeria?\"</td>\n",
       "      <td>\"To grow pineapples in Nigeria, there are several factors to consider. Pineapples thrive in tropical climates with well-drained soil and require a minimum temperature of 60\\u00b0F (15\\u00b0C) for optimal growth. Here are some steps that can be followed to grow pineapples in Nigeria:\\n\\n1. Select a suitable location: Choose a sunny spot with well-drained soil for planting pineapples. Ensure that the area is free from waterlogging and has good air circulation.\\n\\n2. Prepare the soil: Pineapples prefer slightly acidic soil with a pH range of 4.5 to 6.5. If the soil is not within this range, it may be necessary to amend it with organic matter or fertilizers to adjust the pH level.\\n\\n3. Planting: Pineapples can be propagated from the crown of a mature pineapple fruit. Cut off the crown, remove any excess fruit flesh, and allow it to dry for a day or two. Then, plant the crown in the prepared soil, making sure that the base is buried and the leaves are above the ground.\\n\\n4. Watering: Pineapples require regular watering, especially during dry periods. However, it is important to avoid overwatering, as it can lead to root rot. Water the plants deeply but allow the soil to dry out slightly between waterings.\\n\\n5. Fertilization: Pineapples benefit from regular fertilization. Apply a balanced fertilizer with a higher potassium content to promote fruit development. Follow the recommended dosage and frequency provided by the fertilizer manufacturer.\\n\\n6. Weed control: Keep the area around the pineapple plants free from weeds, as they can compete for nutrients and water. Regularly remove any weeds that may emerge.\\n\\n7. Pest and disease management: Monitor the plants for common pests such as mealybugs, aphids, and nematodes. If necessary, use appropriate organic or chemical pest control methods to manage infestations. Additionally, watch out for diseases like pineapple wilt and heart rot, and take preventive measures to minimize their impact.\\n\\n8. Harvesting: Pineapples are ready for harvest when the fruits turn golden yellow and develop a sweet aroma. Gently twist or cut the fruit from the plant, leaving a small portion of the stem attached.\\n\\nRemember that these steps provide a general guideline for growing pineapples in Nigeria. It is advisable to consult local agricultural experts or pineapple farmers for specific recommendations based on the region and variety of pineapple being cultivated.\"</td>\n",
       "      <td>NaN</td>\n",
       "      <td>0.00</td>\n",
       "      <td>0.9</td>\n",
       "    </tr>\n",
       "  </tbody>\n",
       "</table>\n",
       "</div>"
      ],
      "text/plain": [
       "                                                                              input  \\\n",
       "0                                   \"What are the keys to building a career in AI?\"   \n",
       "1                                   \"How can teamwork contribute to success in AI?\"   \n",
       "2                                     \"What is the importance of networking in AI?\"   \n",
       "3                   \"What are some good habits to develop for a successful career?\"   \n",
       "4                            \"How can altruism be beneficial in building a career?\"   \n",
       "5                         \"What is imposter syndrome and how does it relate to AI?\"   \n",
       "6   \"Who are some accomplished individuals who have experienced imposter syndrome?\"   \n",
       "7                                  \"What is the first step to becoming good at AI?\"   \n",
       "8                                          \"What are some common challenges in AI?\"   \n",
       "9                                   \"Is it normal to find parts of AI challenging?\"   \n",
       "10                                                 \"How can I be successful in AI?\"   \n",
       "11                                         \"How can pineapple be grown in nigeria?\"   \n",
       "12                                         \"How can pineapple be grown in nigeria?\"   \n",
       "\n",
       "                                                                                                                                                                                                                                                                                                                                                                                                                                                                                                                                                                                                                                                                                                                                                                                                                                                                                                                                                                                                                                                                                                                                                                                                                                                                                                                                                                                                                                                                                                                                                                                                                                                                                                                                                                                                                                                                                                                                                                                                                                                                                                                                                                                                                                                                                                                                                                                                                                                                                                                                                                                                                                                output  \\\n",
       "0                                                                                                                                                                                                                                                                                                                                                                                                                                                                                                                                                                                                                                                                                                                                                                                                                                                                                                                                                                                                                                                                                                                                                                                                                                                                                                                                                                                                                                                                                                                                                                                                                                                                                                                                                                                                                                                                                                                                                                                                                                                                                                                                                                                                                                                                                                                                                                                                                                                                    \"The keys to building a career in AI are learning foundational technical skills, working on projects, and finding a job, all of which is supported by being part of a community.\"   \n",
       "1                                                                                                                                                                                                                                                                                                                                                                                                                                                                                                                                                                                                                                                                                                                                                                                                                                                                                                                                                                                                                                                                                                                                                                                                                                                                                                                                                                                                                                                                                                                                                                                                                                                                                                                                                                                                                                                                                                                                                                                               \"Teamwork can contribute to success in AI by allowing individuals to leverage the expertise and insights of their colleagues. When working on larger AI projects that require collaboration, the ability to lead and work effectively with a team becomes crucial. By working together, team members can share their deep technical insights, make informed decisions about technical architecture or data collection, and ultimately improve the project. Additionally, being surrounded by colleagues who are dedicated, hardworking, and continuously learning can inspire individuals to do the same, leading to greater success in AI endeavors.\"   \n",
       "2                                                                                                                                                                                                                                                                                                                                                                                                                                                                                                                                                                                                                                                                                                                                                                                                                                                                                                                                                                                                                                                                                                                                                                                                                                                                                                                                                                                                                                                                                                                                                                                                                                                                                                                                                                                                                                                                                                                                                     \"Networking is important in AI because it allows individuals to connect with others who have experience and knowledge in the field. By reaching out to people in their network, such as friends or alumni, individuals can receive guidance and support as they navigate their career in AI. Additionally, attending meetups and engaging in informational interviews can help individuals expand their network and learn from professionals who hold positions aligned with their interests. This networking can provide valuable insights, help individuals stay updated on the evolving field of AI, and potentially open up opportunities for collaboration or job prospects in the future.\"   \n",
       "3                                                                                                                                                                                                                                                                                                                                                                                                                                                                                                                                                                                                                                                                                                                                                                                                                                                                                                                                                                                                                                                                                                                                                                                                                                                                                                                                                                                                                                                                                                                                                                                                                                                                                                                                                                                                                                                                                                                                                                                                                                                                                                                                                                                                                                                                                                                                                      \"Developing good habits in eating, exercise, sleep, personal relationships, work, learning, and self-care can be beneficial for a successful career. These habits can help individuals move forward while staying healthy and contribute to their overall success in their professional lives.\"   \n",
       "4                                                                                                                                                                                                                                                                                                                                                                                                                                                                                                                                                                                                                                                                                                                                                                                                                                                                                                                                                                                                                                                                                                                                                                                                                                                                                                                                                                                                                                                                                                                                                                                                                                                                                                                                                                                                                                                                                                                                                                                                                                                                                                                                             \"Altruism can be beneficial in building a career by helping others even as one focuses on their own career growth. By aiming to lift others during every step of their own journey, individuals can achieve better outcomes for themselves. This can create a positive reputation and network, which can lead to new opportunities and collaborations. Additionally, helping others can provide a sense of fulfillment and purpose, which can contribute to overall career satisfaction and well-being.\"   \n",
       "5                                                                                                                                                                                                                                                                                                                                                                                                                                                                                                                                                                                                                                                                                                                                                                                                                                                                                                                                                                                                                                                                                                                                                                                                                                                                                                                                                                                                                                                                                                                                                                                                                                                                                                                                                                                                                                                                                                                                                                                                                                                                                                                     \"Imposter syndrome is a psychological phenomenon where individuals doubt their own abilities and fear being exposed as a fraud, despite evidence of their competence. In the context of AI, newcomers to the field sometimes experience imposter syndrome, questioning whether they truly belong in the AI community and if they are capable of succeeding in the field. It is important to address imposter syndrome in order to encourage individuals to continue growing in AI and not let self-doubt hinder their progress.\"   \n",
       "6                                                                                                                                                                                                                                                                                                                                                                                                                                                                                                                                                                                                                                                                                                                                                                                                                                                                                                                                                                                                                                                                                                                                                                                                                                                                                                                                                                                                                                                                                                                                                                                                                                                                                                                                                                                                                                                                                                                                                                                                                                                                                                                                                                                                                                                                                                                                                                                                                                                                                                      \"Sheryl Sandberg, Michelle Obama, Tom Hanks, and Mike Cannon-Brookes are some accomplished individuals who have experienced imposter syndrome.\"   \n",
       "7                                                                                                                                                                                                                                                                                                                                                                                                                                                                                                                                                                                                                                                                                                                                                                                                                                                                                                                                                                                                                                                                                                                                                                                                                                                                                                                                                                                                                                                                                                                                                                                                                                                                                                                                                                                                                                                                                                                                                                                                                                                                                                                                                                                                                                                                                                                                                                                                                                                                                                                                                                   \"The first step to becoming good at AI is to learn foundational technical skills.\"   \n",
       "8                                                                                                                                                                                                                                                                                                                                                                                                                                                                                                                                                                                                                                                                                                                                                                                                                                                                                                                                                                                                                                                                                                                                                                                                                                                                                                                                                                                                                                                                                                                                                                                                                                                                                                                                                                                                                                                                                                                                                                                                                                                                                                                                                                                                                                                     \"Some common challenges in AI include keeping up-to-date with evolving technology, finding suitable projects and estimating timelines and return on investment, managing the highly iterative nature of AI projects, collaborating with stakeholders who lack expertise in AI, and struggling with technical challenges while reading research papers or tuning neural network hyperparameters.\"   \n",
       "9                                                                                                                                                                                                                                                                                                                                                                                                                                                                                                                                                                                                                                                                                                                                                                                                                                                                                                                                                                                                                                                                                                                                                                                                                                                                                                                                                                                                                                                                                                                                                                                                                                                                                                                                                                                                                                                                                                                                                                                                                                                                                                                                                                                                                  \"Yes, it is normal to find parts of AI challenging. The author mentions that they still find many research papers challenging to read and have made mistakes while working with neural networks. They also assure the reader that everyone who has published a seminal AI paper has struggled with similar technical challenges at some point. Therefore, it is clear that finding parts of AI challenging is a common experience.\"   \n",
       "10                                                                                                                                                                                                                                                                                                                                                                                                                                                                                                                                                                                                                                                                                                                                                                                                                                                                                                                                                                                                                                                                                                                                                                                                                                                                                                                                                                                                                                                                                                                                                                                                                                                                                                                                                                                                                                                       \"To be successful in AI, it is important to have a basic understanding of calculus, as it can be helpful in certain tasks. However, it is worth noting that with improved automatic differentiation software, it is now possible to invent and implement new neural network architectures without needing to do any calculus. Additionally, it is crucial to continuously learn and deepen your technical knowledge in AI. This can involve mastering various machine learning techniques and metrics, as well as gaining expertise in specific application areas such as natural language processing or computer vision. Developing skills in technology areas like probabilistic graphical models or building scalable software systems can also be beneficial for a successful AI career.\"   \n",
       "11  \"To grow pineapples in Nigeria, there are several factors to consider. Pineapples thrive in tropical climates with well-drained soil and require a minimum temperature of 60\\u00b0F (15\\u00b0C) for optimal growth. Here are some steps that can be taken to grow pineapples in Nigeria:\\n\\n1. Select a suitable location: Choose a sunny spot with well-drained soil for planting pineapples. Ensure that the area is free from waterlogging and has good air circulation.\\n\\n2. Prepare the soil: Pineapples prefer slightly acidic soil with a pH level between 4.5 and 6.5. If the soil is not within this range, it may be necessary to amend it with organic matter or fertilizers to adjust the pH.\\n\\n3. Planting: Pineapples can be propagated from the crown of a mature pineapple fruit. Cut off the crown, remove any excess fruit flesh, and allow it to dry for a day or two. Then, plant the crown in the prepared soil, making sure that the base is buried and the leaves are above the ground.\\n\\n4. Watering: Pineapples require regular watering, especially during dry periods. However, it is important not to overwater as excessive moisture can lead to root rot. Aim to keep the soil evenly moist but not waterlogged.\\n\\n5. Fertilization: Pineapples benefit from regular fertilization. Apply a balanced fertilizer with a higher potassium content to promote fruit development. Follow the recommended dosage and frequency as per the fertilizer instructions.\\n\\n6. Weed control: Keep the area around the pineapple plants free from weeds, as they can compete for nutrients and water. Regularly remove any weeds that may emerge.\\n\\n7. Pest and disease management: Monitor the plants for common pests such as mealybugs, aphids, and nematodes. If necessary, use appropriate organic or chemical pest control methods to manage infestations. Additionally, watch out for diseases like pineapple wilt and heart rot, and take preventive measures to minimize their impact.\\n\\n8. Harvesting: Pineapples are typically ready for harvest within 12-18 months after planting, depending on the variety. Look for fully mature fruits with a golden color and a sweet aroma. Gently twist or cut the fruit from the plant, taking care not to damage the crown for future propagation.\\n\\nIt is important to note that the specific pineapple cultivation practices may vary depending on the region within Nigeria and the pineapple variety being grown. Local agricultural extension services or pineapple farming associations can provide more detailed guidance tailored to the specific location.\"   \n",
       "12                                                                                                                    \"To grow pineapples in Nigeria, there are several factors to consider. Pineapples thrive in tropical climates with well-drained soil and require a minimum temperature of 60\\u00b0F (15\\u00b0C) for optimal growth. Here are some steps that can be followed to grow pineapples in Nigeria:\\n\\n1. Select a suitable location: Choose a sunny spot with well-drained soil for planting pineapples. Ensure that the area is free from waterlogging and has good air circulation.\\n\\n2. Prepare the soil: Pineapples prefer slightly acidic soil with a pH range of 4.5 to 6.5. If the soil is not within this range, it may be necessary to amend it with organic matter or fertilizers to adjust the pH level.\\n\\n3. Planting: Pineapples can be propagated from the crown of a mature pineapple fruit. Cut off the crown, remove any excess fruit flesh, and allow it to dry for a day or two. Then, plant the crown in the prepared soil, making sure that the base is buried and the leaves are above the ground.\\n\\n4. Watering: Pineapples require regular watering, especially during dry periods. However, it is important to avoid overwatering, as it can lead to root rot. Water the plants deeply but allow the soil to dry out slightly between waterings.\\n\\n5. Fertilization: Pineapples benefit from regular fertilization. Apply a balanced fertilizer with a higher potassium content to promote fruit development. Follow the recommended dosage and frequency provided by the fertilizer manufacturer.\\n\\n6. Weed control: Keep the area around the pineapple plants free from weeds, as they can compete for nutrients and water. Regularly remove any weeds that may emerge.\\n\\n7. Pest and disease management: Monitor the plants for common pests such as mealybugs, aphids, and nematodes. If necessary, use appropriate organic or chemical pest control methods to manage infestations. Additionally, watch out for diseases like pineapple wilt and heart rot, and take preventive measures to minimize their impact.\\n\\n8. Harvesting: Pineapples are ready for harvest when the fruits turn golden yellow and develop a sweet aroma. Gently twist or cut the fruit from the plant, leaving a small portion of the stem attached.\\n\\nRemember that these steps provide a general guideline for growing pineapples in Nigeria. It is advisable to consult local agricultural experts or pineapple farmers for specific recommendations based on the region and variety of pineapple being cultivated.\"   \n",
       "\n",
       "    Groundedness  Context Relevance  Answer Relevance  \n",
       "0       1.000000               0.45               0.8  \n",
       "1       0.950000               0.65               0.9  \n",
       "2       0.375000               0.20               0.9  \n",
       "3       0.500000               0.50               0.9  \n",
       "4       0.500000               0.45               0.9  \n",
       "5       1.000000               0.85               1.0  \n",
       "6       1.000000               0.65               0.8  \n",
       "7       1.000000               0.55               0.9  \n",
       "8       1.000000               0.50               0.9  \n",
       "9       1.000000               0.85               1.0  \n",
       "10      1.000000               0.40               0.9  \n",
       "11      0.909091               0.00               1.0  \n",
       "12           NaN               0.00               0.9  "
      ]
     },
     "execution_count": 38,
     "metadata": {},
     "output_type": "execute_result"
    }
   ],
   "source": [
    "import pandas as pd\n",
    "\n",
    "pd.set_option(\"display.max_colwidth\", None)\n",
    "records[[\"input\", \"output\"] + feedback]"
   ]
  },
  {
   "cell_type": "code",
   "execution_count": 39,
   "metadata": {},
   "outputs": [
    {
     "data": {
      "text/html": [
       "<div>\n",
       "<style scoped>\n",
       "    .dataframe tbody tr th:only-of-type {\n",
       "        vertical-align: middle;\n",
       "    }\n",
       "\n",
       "    .dataframe tbody tr th {\n",
       "        vertical-align: top;\n",
       "    }\n",
       "\n",
       "    .dataframe thead th {\n",
       "        text-align: right;\n",
       "    }\n",
       "</style>\n",
       "<table border=\"1\" class=\"dataframe\">\n",
       "  <thead>\n",
       "    <tr style=\"text-align: right;\">\n",
       "      <th></th>\n",
       "      <th>Groundedness</th>\n",
       "      <th>Context Relevance</th>\n",
       "      <th>Answer Relevance</th>\n",
       "      <th>latency</th>\n",
       "      <th>total_cost</th>\n",
       "    </tr>\n",
       "    <tr>\n",
       "      <th>app_id</th>\n",
       "      <th></th>\n",
       "      <th></th>\n",
       "      <th></th>\n",
       "      <th></th>\n",
       "      <th></th>\n",
       "    </tr>\n",
       "  </thead>\n",
       "  <tbody>\n",
       "    <tr>\n",
       "      <th>App_1</th>\n",
       "      <td>0.787238</td>\n",
       "      <td>0.465385</td>\n",
       "      <td>0.907692</td>\n",
       "      <td>15.076923</td>\n",
       "      <td>0.001007</td>\n",
       "    </tr>\n",
       "  </tbody>\n",
       "</table>\n",
       "</div>"
      ],
      "text/plain": [
       "        Groundedness  Context Relevance  Answer Relevance    latency  \\\n",
       "app_id                                                                 \n",
       "App_1       0.787238           0.465385          0.907692  15.076923   \n",
       "\n",
       "        total_cost  \n",
       "app_id              \n",
       "App_1     0.001007  "
      ]
     },
     "execution_count": 39,
     "metadata": {},
     "output_type": "execute_result"
    }
   ],
   "source": [
    "tru.get_leaderboard(app_ids=[])"
   ]
  },
  {
   "cell_type": "code",
   "execution_count": 45,
   "metadata": {},
   "outputs": [
    {
     "name": "stdout",
     "output_type": "stream",
     "text": [
      "Starting dashboard ...\n",
      "Config file already exists. Skipping writing process.\n",
      "Credentials file already exists. Skipping writing process.\n"
     ]
    },
    {
     "data": {
      "application/vnd.jupyter.widget-view+json": {
       "model_id": "8930f538221a447caa17e4b90ae28a47",
       "version_major": 2,
       "version_minor": 0
      },
      "text/plain": [
       "Accordion(children=(VBox(children=(VBox(children=(Label(value='STDOUT'), Output())), VBox(children=(Label(valu…"
      ]
     },
     "metadata": {},
     "output_type": "display_data"
    },
    {
     "name": "stdout",
     "output_type": "stream",
     "text": [
      "Dashboard started at http://192.168.1.74:8501 .\n"
     ]
    },
    {
     "data": {
      "text/plain": [
       "<Popen: returncode: None args: ['streamlit', 'run', '--server.headless=True'...>"
      ]
     },
     "execution_count": 45,
     "metadata": {},
     "output_type": "execute_result"
    }
   ],
   "source": [
    "tru.run_dashboard()"
   ]
  },
  {
   "cell_type": "code",
   "execution_count": null,
   "metadata": {},
   "outputs": [],
   "source": []
  },
  {
   "cell_type": "code",
   "execution_count": null,
   "metadata": {},
   "outputs": [],
   "source": []
  }
 ],
 "metadata": {
  "kernelspec": {
   "display_name": "openai",
   "language": "python",
   "name": "python3"
  },
  "language_info": {
   "codemirror_mode": {
    "name": "ipython",
    "version": 3
   },
   "file_extension": ".py",
   "mimetype": "text/x-python",
   "name": "python",
   "nbconvert_exporter": "python",
   "pygments_lexer": "ipython3",
   "version": "3.11.5"
  }
 },
 "nbformat": 4,
 "nbformat_minor": 2
}
